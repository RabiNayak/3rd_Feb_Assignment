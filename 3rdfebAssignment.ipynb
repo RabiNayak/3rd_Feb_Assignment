{
 "cells": [
  {
   "cell_type": "markdown",
   "id": "6785616a-7b9c-45de-95d3-ca50eb722167",
   "metadata": {},
   "source": [
    "1)"
   ]
  },
  {
   "cell_type": "markdown",
   "id": "1a235b39-2a21-4f0d-9d8f-92e4643bdc30",
   "metadata": {},
   "source": [
    "The keyword def is used to create a function."
   ]
  },
  {
   "cell_type": "code",
   "execution_count": 1,
   "id": "f88e9da4-c086-4c88-816f-36bf9f051d15",
   "metadata": {},
   "outputs": [],
   "source": [
    "#Create a function to return a list of odd numbers in the range of 1 to 25.\n",
    "def function(l):\n",
    "    l1=[]\n",
    "    for i in l:\n",
    "        if i%2!=0:\n",
    "            l1.append(i)\n",
    "    return l1"
   ]
  },
  {
   "cell_type": "code",
   "execution_count": 3,
   "id": "f31c02ff-0345-42ea-a270-71a1e19a6b7a",
   "metadata": {},
   "outputs": [],
   "source": [
    "l=list(range(1,26))"
   ]
  },
  {
   "cell_type": "code",
   "execution_count": 6,
   "id": "a8bcc6a8-77fd-4ee2-b0c7-17b09ece5e43",
   "metadata": {},
   "outputs": [
    {
     "data": {
      "text/plain": [
       "[1, 3, 5, 7, 9, 11, 13, 15, 17, 19, 21, 23, 25]"
      ]
     },
     "execution_count": 6,
     "metadata": {},
     "output_type": "execute_result"
    }
   ],
   "source": [
    "function(l)"
   ]
  },
  {
   "cell_type": "markdown",
   "id": "e4d9c573-a9a9-4783-b274-5422d880555f",
   "metadata": {},
   "source": [
    "2)Why *args and **kwargs is used in some functions? Create a function each for *args and **kwargs\n",
    "to demonstrate their use."
   ]
  },
  {
   "cell_type": "markdown",
   "id": "9af753ac-f2ba-45bf-940c-e9be393823bd",
   "metadata": {},
   "source": [
    "*args is used to take input of many data types at a time and return all the elements ,\n",
    "   **kwargs allows us to pass a variable number of keyword arguments to a Python function used for dictionay"
   ]
  },
  {
   "cell_type": "code",
   "execution_count": 7,
   "id": "464ea8b9-27a5-4c24-a798-96477050d3c0",
   "metadata": {},
   "outputs": [],
   "source": [
    "#a function for *args\n",
    "def fun(*args):\n",
    "    return args\n",
    "    "
   ]
  },
  {
   "cell_type": "code",
   "execution_count": 14,
   "id": "2204ea8c-bd1b-45ec-91f5-7f9b0a83636a",
   "metadata": {},
   "outputs": [
    {
     "data": {
      "text/plain": [
       "tuple"
      ]
     },
     "execution_count": 14,
     "metadata": {},
     "output_type": "execute_result"
    }
   ],
   "source": [
    "type(fun(1,5,5,\"rabi\"))"
   ]
  },
  {
   "cell_type": "code",
   "execution_count": 9,
   "id": "2b71df20-6902-4074-9b14-7ee9ba12fb5a",
   "metadata": {},
   "outputs": [],
   "source": [
    "#a function for **kwargs\n",
    "def function(**kwargs):\n",
    "    return kwargs"
   ]
  },
  {
   "cell_type": "code",
   "execution_count": 13,
   "id": "482bb19f-382c-4bf1-b498-d8ed340e6d28",
   "metadata": {},
   "outputs": [
    {
     "data": {
      "text/plain": [
       "{'number': [1, 2, 3, 4], 'name': 'rabi', 'course': 'data science'}"
      ]
     },
     "execution_count": 13,
     "metadata": {},
     "output_type": "execute_result"
    }
   ],
   "source": [
    "function(number = [1,2,3,4],name=\"rabi\",course=\"data science\")"
   ]
  },
  {
   "cell_type": "markdown",
   "id": "4ac60b41-a79f-41e4-8afb-1cd1b88b68ae",
   "metadata": {},
   "source": [
    "3)What is an iterator in python? Name the method used to initialise the iterator object and the method\n",
    "used for iteration. Use these methods to print the first five elements of the given list [2, 4, 6, 8, 10, 12, 14,\n",
    "16, 18, 20]."
   ]
  },
  {
   "cell_type": "markdown",
   "id": "c9e46501-d82b-4272-99f7-477e7084ff3c",
   "metadata": {},
   "source": [
    "In python,an iterator is an object that can be iterated (looped) upon, which means it can traverse through a sequence of values.\n",
    "'iter()' function is used for iteration which takes an iterable object and returns an iterator object."
   ]
  },
  {
   "cell_type": "code",
   "execution_count": 1,
   "id": "5be7f016-b5a4-4b69-b4b4-95cd20fbd21f",
   "metadata": {},
   "outputs": [
    {
     "name": "stdout",
     "output_type": "stream",
     "text": [
      "2\n",
      "4\n",
      "6\n"
     ]
    }
   ],
   "source": [
    "lst = [2, 4, 6, 8, 10, 12, 14, 16, 18, 20]\n",
    "it = iter(lst)\n",
    "print(next(it))\n",
    "print(next(it))\n",
    "print(next(it))"
   ]
  },
  {
   "cell_type": "markdown",
   "id": "7f66ad1c-e54a-4a98-a193-a00cff100078",
   "metadata": {},
   "source": [
    "4)  What is a generator function in python? Why yield keyword is used? Give an example of a generator function"
   ]
  },
  {
   "cell_type": "markdown",
   "id": "80306210-f38c-426f-9fe7-6c2a61a09ecd",
   "metadata": {},
   "source": [
    " A generator is a function that returns an iterator that produces a sequence of values when iterated over.\n",
    " Yield key word is used to returns a generator object to the one who calls the function which contains yield, instead of simply returning a value."
   ]
  },
  {
   "cell_type": "code",
   "execution_count": 16,
   "id": "65222394-4a3f-4f03-935b-78d2c8c76af7",
   "metadata": {},
   "outputs": [],
   "source": [
    "def square_sequence(n):\n",
    "    i = 0\n",
    "    while i <= n:\n",
    "        yield i ** 2\n",
    "        i += 1"
   ]
  },
  {
   "cell_type": "code",
   "execution_count": 17,
   "id": "914865eb-f7dd-482d-b8bc-13e15a05f2d0",
   "metadata": {},
   "outputs": [
    {
     "data": {
      "text/plain": [
       "[0, 1, 4, 9, 16, 25, 36]"
      ]
     },
     "execution_count": 17,
     "metadata": {},
     "output_type": "execute_result"
    }
   ],
   "source": [
    "list(square_sequence(6))"
   ]
  },
  {
   "cell_type": "markdown",
   "id": "bcd58ccf-2e00-4c70-a809-ee1c62a1c527",
   "metadata": {},
   "source": [
    "5) Create a generator function for prime numbers less than 1000. Use the next() method to print the\n",
    "first 20 prime numbers."
   ]
  },
  {
   "cell_type": "code",
   "execution_count": 10,
   "id": "59f32bdf-e01e-4663-8ce6-12edccda2ccd",
   "metadata": {},
   "outputs": [],
   "source": [
    "def primes_generator():\n",
    "    primes = list(range(2, 1000))\n",
    "    for i in range(2, int(1000**0.5)+1):\n",
    "        primes = [x for x in primes if (x == i or x % i != 0)]\n",
    "    for prime in primes:\n",
    "        yield prime"
   ]
  },
  {
   "cell_type": "code",
   "execution_count": 17,
   "id": "43160b86-86e6-4b83-bb97-7b24a9f821ff",
   "metadata": {},
   "outputs": [
    {
     "name": "stdout",
     "output_type": "stream",
     "text": [
      "2\n",
      "3\n",
      "5\n",
      "7\n",
      "11\n",
      "13\n",
      "17\n",
      "19\n",
      "23\n",
      "29\n",
      "31\n",
      "37\n",
      "41\n",
      "43\n",
      "47\n",
      "53\n",
      "59\n",
      "61\n",
      "67\n",
      "71\n"
     ]
    }
   ],
   "source": [
    "prime_gen=primes_generator()\n",
    "for i in range(20):\n",
    "    print(next(prime_gen))"
   ]
  },
  {
   "cell_type": "markdown",
   "id": "6d1fe7b9-3be9-4213-a214-1644d4f3114b",
   "metadata": {},
   "source": [
    "6) Write a python program to print the first 10 Fibonacci numbers using a while loop."
   ]
  },
  {
   "cell_type": "code",
   "execution_count": 28,
   "id": "6bfefa73-f595-44cf-99c1-7a7baa4bea6e",
   "metadata": {},
   "outputs": [
    {
     "name": "stdout",
     "output_type": "stream",
     "text": [
      "0 1 1 2 3 5 8 13 21 34 "
     ]
    }
   ],
   "source": [
    "a, b = 0, 1\n",
    "count = 0\n",
    "while count < 10:\n",
    "    print(a,end=\" \")\n",
    "    a, b = b, a+b\n",
    "    count += 1"
   ]
  },
  {
   "cell_type": "markdown",
   "id": "c72d679a-de0f-4a5b-b641-71363a57ae89",
   "metadata": {},
   "source": [
    "7) Write a List Comprehension to iterate through the given string: ‘pwskills’.\n",
    "\n",
    "Expected output: ['p', 'w', 's', 'k', 'i', 'l', 'l', 's'] "
   ]
  },
  {
   "cell_type": "code",
   "execution_count": 33,
   "id": "e8776205-9099-4283-b76d-6168686221cd",
   "metadata": {},
   "outputs": [
    {
     "name": "stdout",
     "output_type": "stream",
     "text": [
      "['p', 'w', 's', 'k', 'i', 'l', 'l', 's']\n"
     ]
    }
   ],
   "source": [
    "string = 'pwskills'\n",
    "result = [char for char in string]\n",
    "print(result)"
   ]
  },
  {
   "cell_type": "markdown",
   "id": "233afac3-ba7f-4c42-925a-761aa496f514",
   "metadata": {},
   "source": [
    "8) Write a python program to check whether a given number is Palindrome or not using a while loop"
   ]
  },
  {
   "cell_type": "code",
   "execution_count": null,
   "id": "88d40df0-403f-48c5-abe5-38e22ad7eac5",
   "metadata": {},
   "outputs": [],
   "source": [
    "num = int(input(\"Enter a number: \"))\n",
    "temp = num\n",
    "reverse_num = 0\n",
    "\n",
    "while temp > 0:\n",
    "    remainder = temp % 10\n",
    "    reverse_num = (reverse_num * 10) + remainder\n",
    "    temp = temp // 10\n",
    "\n",
    "if num == reverse_num:\n",
    "    print(num, \"is a palindrome number\")\n",
    "else:\n",
    "    print(num, \"is not a palindrome number\")\n"
   ]
  },
  {
   "cell_type": "markdown",
   "id": "ea3a090a-ec96-470b-b368-1946f45a402b",
   "metadata": {},
   "source": [
    "9). Write a code to print odd numbers from 1 to 100 using list comprehension."
   ]
  },
  {
   "cell_type": "code",
   "execution_count": 8,
   "id": "1caf6d3c-5f60-496e-9568-6c11c3d8d616",
   "metadata": {},
   "outputs": [
    {
     "name": "stdout",
     "output_type": "stream",
     "text": [
      "[1, 3, 5, 7, 9, 11, 13, 15, 17, 19, 21, 23, 25, 27, 29, 31, 33, 35, 37, 39, 41, 43, 45, 47, 49, 51, 53, 55, 57, 59, 61, 63, 65, 67, 69, 71, 73, 75, 77, 79, 81, 83, 85, 87, 89, 91, 93, 95, 97, 99]\n"
     ]
    }
   ],
   "source": [
    "odd_numbers=[num for num in range(0,101) if num%2!=0]\n",
    "print(odd_numbers)"
   ]
  },
  {
   "cell_type": "code",
   "execution_count": null,
   "id": "1e2e6d2e-9236-47b1-9534-2cf5abb176ac",
   "metadata": {},
   "outputs": [],
   "source": []
  }
 ],
 "metadata": {
  "kernelspec": {
   "display_name": "Python 3 (ipykernel)",
   "language": "python",
   "name": "python3"
  },
  "language_info": {
   "codemirror_mode": {
    "name": "ipython",
    "version": 3
   },
   "file_extension": ".py",
   "mimetype": "text/x-python",
   "name": "python",
   "nbconvert_exporter": "python",
   "pygments_lexer": "ipython3",
   "version": "3.10.8"
  }
 },
 "nbformat": 4,
 "nbformat_minor": 5
}
